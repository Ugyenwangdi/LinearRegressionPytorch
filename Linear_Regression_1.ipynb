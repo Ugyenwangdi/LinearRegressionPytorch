{
  "nbformat": 4,
  "nbformat_minor": 0,
  "metadata": {
    "colab": {
      "name": "Linear Regression 1.ipynb",
      "provenance": [],
      "collapsed_sections": []
    },
    "kernelspec": {
      "name": "python3",
      "display_name": "Python 3"
    },
    "language_info": {
      "name": "python"
    }
  },
  "cells": [
    {
      "cell_type": "code",
      "execution_count": null,
      "metadata": {
        "colab": {
          "base_uri": "https://localhost:8080/"
        },
        "id": "-P6unK_nYRPe",
        "outputId": "85aa24aa-d905-41ca-e2f2-004a24c752a8"
      },
      "outputs": [
        {
          "output_type": "stream",
          "name": "stdout",
          "text": [
            "Requirement already satisfied: torch in /usr/local/lib/python3.7/dist-packages (1.10.0+cu111)\n",
            "Requirement already satisfied: typing-extensions in /usr/local/lib/python3.7/dist-packages (from torch) (3.10.0.2)\n"
          ]
        }
      ],
      "source": [
        "!pip3 install torch"
      ]
    },
    {
      "cell_type": "code",
      "source": [
        "import torch"
      ],
      "metadata": {
        "id": "UPkqiYYBYoV_"
      },
      "execution_count": null,
      "outputs": []
    },
    {
      "cell_type": "markdown",
      "source": [
        "Gradient descent is an optimizing algorithm which will try to minimize the error function of a linear model until it is trained to fit our data.\n"
      ],
      "metadata": {
        "id": "3csNQFPXZAf_"
      }
    },
    {
      "cell_type": "markdown",
      "source": [
        "w=weight or slope, \n",
        "b=bias or y intercept,\n",
        "y = w*x + b, equ of line modeled as. \n",
        "Using Linear model"
      ],
      "metadata": {
        "id": "A_9cRFluaKVl"
      }
    },
    {
      "cell_type": "code",
      "source": [
        "w = torch.tensor(3.0, requires_grad=True)\n",
        "b = torch.tensor(1.0, requires_grad=True)"
      ],
      "metadata": {
        "id": "8Fl1_hCpaawN"
      },
      "execution_count": null,
      "outputs": []
    },
    {
      "cell_type": "code",
      "source": [
        "def forward(x):\n",
        "  y = w*x + b \n",
        "  return y"
      ],
      "metadata": {
        "id": "KhFPHPEOa5Kb"
      },
      "execution_count": null,
      "outputs": []
    },
    {
      "cell_type": "code",
      "source": [
        "x = torch.tensor(2) \n",
        "forward(x)  # we can predict as many input as we want, say forward([[4], [7]])but wrapped in sime bracket"
      ],
      "metadata": {
        "colab": {
          "base_uri": "https://localhost:8080/"
        },
        "id": "Qo02E3J-bEK5",
        "outputId": "20f04add-281d-4d28-f885-32f5c9f91280"
      },
      "execution_count": null,
      "outputs": [
        {
          "output_type": "execute_result",
          "data": {
            "text/plain": [
              "tensor(7., grad_fn=<AddBackward0>)"
            ]
          },
          "metadata": {},
          "execution_count": 17
        }
      ]
    },
    {
      "cell_type": "markdown",
      "source": [
        "Implementing Linear model Class"
      ],
      "metadata": {
        "id": "D3QTZn8Ab9YK"
      }
    },
    {
      "cell_type": "code",
      "source": [
        "import torch\n",
        "from torch.nn import Linear"
      ],
      "metadata": {
        "id": "dEV6MrBccDZg"
      },
      "execution_count": null,
      "outputs": []
    },
    {
      "cell_type": "code",
      "source": [
        "torch.manual_seed(1)  # sets a seed for generating random values, when creating a linear model it will be given a random values\n",
        "model = Linear(in_features=1, out_features=1) # create a linear model, which means for every one prediction i.e for every output, there is one in_feature, single input\n",
        "print(model.bias, model.weight) # To determine model's parameters"
      ],
      "metadata": {
        "colab": {
          "base_uri": "https://localhost:8080/"
        },
        "id": "0g2VOZoDcZdw",
        "outputId": "091c149b-1b56-4339-a17a-9517146363d5"
      },
      "execution_count": null,
      "outputs": [
        {
          "output_type": "stream",
          "name": "stdout",
          "text": [
            "Parameter containing:\n",
            "tensor([-0.4414], requires_grad=True) Parameter containing:\n",
            "tensor([[0.5153]], requires_grad=True)\n"
          ]
        }
      ]
    },
    {
      "cell_type": "code",
      "source": [
        "x = torch.tensor([2.0])\n",
        "print(model(x))   # prediction using model\n",
        "\n",
        "x = torch.tensor([[2.0], [3.3]])\n",
        "print(model(x))  # prediction for multiple inputs"
      ],
      "metadata": {
        "colab": {
          "base_uri": "https://localhost:8080/"
        },
        "id": "iYQ-T56zeGUk",
        "outputId": "44f6c887-6efa-4846-881c-a45e800eb7a5"
      },
      "execution_count": null,
      "outputs": [
        {
          "output_type": "stream",
          "name": "stdout",
          "text": [
            "tensor([0.5891], grad_fn=<AddBackward0>)\n",
            "tensor([[0.5891],\n",
            "        [1.2590]], grad_fn=<AddmmBackward0>)\n"
          ]
        }
      ]
    },
    {
      "cell_type": "markdown",
      "source": [
        "Custom modules, A robust and efficient way of building neural networks with pytorch"
      ],
      "metadata": {
        "id": "02nhFjswfFPf"
      }
    },
    {
      "cell_type": "code",
      "source": [
        "import torch\n",
        "import torch.nn as nn"
      ],
      "metadata": {
        "id": "wotd6UkMfdbV"
      },
      "execution_count": null,
      "outputs": []
    },
    {
      "cell_type": "code",
      "source": [
        "class LR(nn.Module):  # Creating new class for Linear regression. Inherit from base class Module\n",
        "  def __init__(self, input_size, output_size):  # Use this constructor to initialize new instances of new class\n",
        "    super().__init__()  # call super method for inheritance \n",
        "    self.linear = nn.Linear(input_size, output_size)  # initialize the instances\n",
        "  \n",
        "  # create a forward method so that it can be accessed using model object to predict\n",
        "  def forward(self, x):\n",
        "    pred = self.linear(x)\n",
        "    return pred\n"
      ],
      "metadata": {
        "id": "_ESC3VWdfgDC"
      },
      "execution_count": null,
      "outputs": []
    },
    {
      "cell_type": "code",
      "source": [
        "torch.manual_seed(1)\n",
        "# initialize new model and its instances\n",
        "model = LR(1, 1)\n",
        "# print(list(model.parameters()))  # print it in the form of list for better viewing\n"
      ],
      "metadata": {
        "id": "oC1XI7hdg9vr"
      },
      "execution_count": null,
      "outputs": []
    },
    {
      "cell_type": "code",
      "source": [
        "x = torch.tensor([1.0])\n",
        "print(model.forward(x)) # call the method forward to predict \n",
        "\n",
        "x = torch.tensor([[1.0], [2.0]]) # two predictions based on two independent variables\n",
        "print(model.forward(x))"
      ],
      "metadata": {
        "colab": {
          "base_uri": "https://localhost:8080/"
        },
        "id": "KgUeTmwSiOYQ",
        "outputId": "9201c4bf-8f2c-4cd4-8f77-a568af3e39db"
      },
      "execution_count": null,
      "outputs": [
        {
          "output_type": "stream",
          "name": "stdout",
          "text": [
            "tensor([0.0739], grad_fn=<AddBackward0>)\n",
            "tensor([[0.0739],\n",
            "        [0.5891]], grad_fn=<AddmmBackward0>)\n"
          ]
        }
      ]
    },
    {
      "cell_type": "markdown",
      "source": [
        "Create dataset. \n",
        "To train a model to develop new weight and bias values based on previously labeled data rather than working with random parameters. "
      ],
      "metadata": {
        "id": "a_xdNsYwjwQt"
      }
    },
    {
      "cell_type": "code",
      "source": [
        "import torch\n",
        "import torch.nn as nn\n",
        "import matplotlib.pyplot as plt\n",
        "import numpy as np"
      ],
      "metadata": {
        "id": "Y0H5lS4akXVd"
      },
      "execution_count": null,
      "outputs": []
    },
    {
      "cell_type": "code",
      "source": [
        "# creating datasets\n",
        "X = torch.randn(100, 1)*10 # shape of tensor to be 100 rows and 1 col, returns tensor filled with random numbers which are normally distributed\n",
        "y = X + 3*torch.randn(100, 1) # add a noise to y data so that the data points to be relatively spaced out around 0, small standard deviation, \n",
        "# print(X) # normally distributed tensors, relatively small numbers centered around 0 so we multiply by 10 to set larger range\n",
        "plt.plot(X.numpy(), y.numpy(), 'o')  #'y gives a straight dotted line if y = X which shows al data points are normally distributed within X\n",
        "plt.ylabel('y')\n",
        "plt.xlabel('x')\n",
        "\n",
        "# now that we have created a noisy dataset, it is time to train our model"
      ],
      "metadata": {
        "colab": {
          "base_uri": "https://localhost:8080/",
          "height": 298
        },
        "id": "IZKVyhDuoLFL",
        "outputId": "52cf1a6c-bb46-4988-f712-59c59c480dcf"
      },
      "execution_count": null,
      "outputs": [
        {
          "output_type": "execute_result",
          "data": {
            "text/plain": [
              "Text(0.5, 0, 'x')"
            ]
          },
          "metadata": {},
          "execution_count": 34
        },
        {
          "output_type": "display_data",
          "data": {
            "image/png": "[encoded data removed]",
            "text/plain": [
              "<Figure size 432x288 with 1 Axes>"
            ]
          },
          "metadata": {
            "needs_background": "light"
          }
        }
      ]
    },
    {
      "cell_type": "code",
      "source": [
        "class LR(nn.Module):  # Creating new class for Linear regression. Inherit from base class Module\n",
        "  def __init__(self, input_size, output_size):  # Use this constructor to initialize new instances of new class\n",
        "    super().__init__()  # call super method for inheritance \n",
        "    self.linear = nn.Linear(input_size, output_size)  # initialize the instances\n",
        "  \n",
        "  # create a forward method so that it can be accessed using model object to predict\n",
        "  def forward(self, x):\n",
        "    pred = self.linear(x)\n",
        "    return pred\n"
      ],
      "metadata": {
        "id": "ZVkjOTuYoQLG"
      },
      "execution_count": null,
      "outputs": []
    },
    {
      "cell_type": "code",
      "source": [
        "torch.manual_seed(1)\n",
        "# initialize new model and its instances\n",
        "model = LR(1, 1)\n",
        "# print(list(model.parameters()))  # print it in the form of list for better viewing\n"
      ],
      "metadata": {
        "id": "Rdx-fZcPoTpU"
      },
      "execution_count": null,
      "outputs": []
    },
    {
      "cell_type": "code",
      "source": [
        "# Obtain model parameters by unpacking the model \n",
        "[w, b] = model.parameters()\n",
        "# print(w, b)  # we see that weight is a 2 dimensional array with one row and one column\n",
        "# w1 = w[0][0].item() # access using row 0 and col 0 index for weight and apply .item() method to print single python number from both tensor values\n",
        "# b1 = b[0].item() # single item at 0th index\n",
        "# print(w1, b1)  # print parameters\n",
        "\n",
        "# for clean method create a function to get the parameters\n",
        "def get_params():\n",
        "  return(w[0][0].item(), b[0].item())"
      ],
      "metadata": {
        "id": "uwtRMGYgoZc6"
      },
      "execution_count": null,
      "outputs": []
    },
    {
      "cell_type": "code",
      "source": [
        "# plot the linear model along side the data points\n",
        "def plot_fit(title):\n",
        "  plt.title = title\n",
        "\n",
        "  # To determine neumerical expressions for x1 and y1\n",
        "  w1, b1 = get_params()  \n",
        "  x1 = np.array([-30, 30]) # x values between -30 to 30, make it an array not tensor to make it compatible with pyplot\n",
        "  y1 = w1 * x1 + b1 # From the two x points from -30 to 30 we can get two y points\n",
        "  plt.plot(x1, y1, 'r') # plot it as redline\n",
        "  plt.scatter(X, y) # plot datasets\n",
        "  plt.show()"
      ],
      "metadata": {
        "id": "vv-reC0ep9rK"
      },
      "execution_count": null,
      "outputs": []
    },
    {
      "cell_type": "code",
      "source": [
        "plot_fit('Initial Model') # call the plot. Since it is not the plot we want, we will need to use gradient descent to update its parameters"
      ],
      "metadata": {
        "colab": {
          "base_uri": "https://localhost:8080/",
          "height": 265
        },
        "id": "pPY_lCGkt1JU",
        "outputId": "fbbb257c-c025-4911-f4a3-112861c45de2"
      },
      "execution_count": null,
      "outputs": [
        {
          "output_type": "display_data",
          "data": {
            "image/png": "[encoded data removed]",
            "text/plain": [
              "<Figure size 432x288 with 1 Axes>"
            ]
          },
          "metadata": {
            "needs_background": "light"
          }
        }
      ]
    },
    {
      "cell_type": "markdown",
      "source": [
        "Loss Function\n",
        "\n",
        "We will now find the parameters of a line that fits the data well\n",
        "\n",
        "*   (y - y_hat)**2\n",
        "\n",
        "*   (y - wx + b)**2\n",
        "\n",
        "\n",
        "*   (y - wx + 0)**2  # keep the bias to 0 by removing bias\n",
        "*   (y - wx)**2\n",
        "\n",
        "loss = (3 - w(-3))**2 for (-3, 3), the \n",
        "\n",
        "*   value of w = -1 gives the minimum error = 0\n",
        "\n"
      ],
      "metadata": {
        "id": "P_0zYvYFu2e-"
      }
    },
    {
      "cell_type": "markdown",
      "source": [
        "Gradient descent\n",
        "\n",
        "\n",
        "---\n",
        "\n",
        "\n",
        "How to train our model to determine the weight parameters which will minimize the error function ( can be done with gradient descent).\n",
        "\n"
      ],
      "metadata": {
        "id": "q_9KYwSyw6Mv"
      }
    },
    {
      "cell_type": "markdown",
      "source": [
        "\n",
        "*   First we compute the derivative of the loss function.\n",
        "\n",
        "\n",
        "```\n",
        "# loss = (3 - w(-3))**2\n",
        "# f'(w) = 18(w+1)\n",
        "```\n",
        "\n",
        "\n",
        "*   Then, subtract in the current weight value of the line. Whatever the weight may be, this will give the gradient value(f'(w)).\n",
        "\n",
        "```\n",
        "# w1 = w0 - f'(w)\n",
        "```\n",
        "The gradient value is subtracted fromt he current weight w0 to give the new updated weight, w1. The new weight should result in a smaller error than the previous one. We keep doing that iteratively until we obtain a small error, until we obtain the optimal parameters for our linear model to fit the data.\n",
        "\n",
        "\n",
        "---\n",
        "\n",
        "\n",
        "\n",
        "We are descending with the gradient.\n",
        "To ensure optimal result, one should descend with really small steps and we do this by multiplying a gradient with a learning rate, small number.\n",
        "\n",
        "\n",
        "\n",
        "```\n",
        "# w1 = w0 - learnigrate*f'(w)\n",
        "\n",
        "```\n",
        "\n"
      ],
      "metadata": {
        "id": "BloRzXGny0D9"
      }
    },
    {
      "cell_type": "markdown",
      "source": [
        "Mean Squared Error\n",
        "\n",
        "\n",
        "---\n",
        "\n",
        "similar to error function but here now we consider the biases\n",
        "\n",
        "```\n",
        "# (y - wx + b) ** 2\n",
        "```\n",
        "\n",
        "\n",
        "```\n",
        "# MSE = 1/N * sum(y.i - mean(y.i))**2\n",
        "# f(m, b) = 1/N * sum(y.i - (mx.i + b))**2\n",
        "```\n",
        "\n",
        "\n",
        "\n",
        "```\n",
        "# New weight\n",
        "# m1 = m0 - learningrate * f'(m)\n",
        "\n",
        "# new bias \n",
        "# b1 = b0 - learnigrate * f'(b)\n",
        "```\n",
        "\n",
        "\n"
      ],
      "metadata": {
        "id": "MvhAVXKb2UhF"
      }
    },
    {
      "cell_type": "markdown",
      "source": [
        "Training - Code Implementation"
      ],
      "metadata": {
        "id": "jyLvSou45ESa"
      }
    },
    {
      "cell_type": "code",
      "source": [
        "# builtin loss function\n",
        "criterion = nn.MSELoss()\n",
        "# optimizer, stochastic gradient descent \n",
        "optimizer = torch.optim.SGD(model.parameters(), lr=0.01)  # stochastic gradient descent minimizes total loss one sample at a time\n"
      ],
      "metadata": {
        "id": "uuUngyrz5LxI"
      },
      "execution_count": null,
      "outputs": []
    },
    {
      "cell_type": "code",
      "source": [
        "# training our model\n",
        "epochs = 100 # iterative process,  when we iterate once over the entire datset, we calculate the error function and back prapagate the gradient of error function to update the weights\n",
        "losses = []\n",
        "for i in range(epochs):\n",
        "  y_pred = model.forward(X)\n",
        "  loss = criterion(y_pred, y)\n",
        "  print(\"epoch: \", i, \"loss: \", loss.item())\n",
        "\n",
        "  losses.append(loss) # accumulate loss in the losses list\n",
        "  # set gradients to zero\n",
        "  optimizer.zero_grad()\n",
        "\n",
        "  # minimize the loss at every epoch for the gradients calculated using the derivative\n",
        "  loss.backward()\n",
        "  optimizer.step() # update the model parameters\n",
        "\n",
        "\n",
        "\n"
      ],
      "metadata": {
        "colab": {
          "base_uri": "https://localhost:8080/"
        },
        "id": "5totK-d46nu7",
        "outputId": "972f5194-d813-456b-95be-1f26d90ac110"
      },
      "execution_count": null,
      "outputs": [
        {
          "output_type": "stream",
          "name": "stdout",
          "text": [
            "epoch:  0 loss:  9.185018539428711\n",
            "epoch:  1 loss:  9.184844017028809\n",
            "epoch:  2 loss:  9.184675216674805\n",
            "epoch:  3 loss:  9.184514045715332\n",
            "epoch:  4 loss:  9.184359550476074\n",
            "epoch:  5 loss:  9.184209823608398\n",
            "epoch:  6 loss:  9.184067726135254\n",
            "epoch:  7 loss:  9.183929443359375\n",
            "epoch:  8 loss:  9.183796882629395\n",
            "epoch:  9 loss:  9.183670997619629\n",
            "epoch:  10 loss:  9.183548927307129\n",
            "epoch:  11 loss:  9.183432579040527\n",
            "epoch:  12 loss:  9.183318138122559\n",
            "epoch:  13 loss:  9.183210372924805\n",
            "epoch:  14 loss:  9.183107376098633\n",
            "epoch:  15 loss:  9.183008193969727\n",
            "epoch:  16 loss:  9.18291187286377\n",
            "epoch:  17 loss:  9.182820320129395\n",
            "epoch:  18 loss:  9.182731628417969\n",
            "epoch:  19 loss:  9.182646751403809\n",
            "epoch:  20 loss:  9.182565689086914\n",
            "epoch:  21 loss:  9.182487487792969\n",
            "epoch:  22 loss:  9.182411193847656\n",
            "epoch:  23 loss:  9.182341575622559\n",
            "epoch:  24 loss:  9.182270050048828\n",
            "epoch:  25 loss:  9.18220329284668\n",
            "epoch:  26 loss:  9.182140350341797\n",
            "epoch:  27 loss:  9.182079315185547\n",
            "epoch:  28 loss:  9.182019233703613\n",
            "epoch:  29 loss:  9.181962013244629\n",
            "epoch:  30 loss:  9.181907653808594\n",
            "epoch:  31 loss:  9.181856155395508\n",
            "epoch:  32 loss:  9.181805610656738\n",
            "epoch:  33 loss:  9.181758880615234\n",
            "epoch:  34 loss:  9.181711196899414\n",
            "epoch:  35 loss:  9.181666374206543\n",
            "epoch:  36 loss:  9.181624412536621\n",
            "epoch:  37 loss:  9.1815824508667\n",
            "epoch:  38 loss:  9.18154239654541\n",
            "epoch:  39 loss:  9.181504249572754\n",
            "epoch:  40 loss:  9.181468963623047\n",
            "epoch:  41 loss:  9.181434631347656\n",
            "epoch:  42 loss:  9.181400299072266\n",
            "epoch:  43 loss:  9.181367874145508\n",
            "epoch:  44 loss:  9.1813383102417\n",
            "epoch:  45 loss:  9.181305885314941\n",
            "epoch:  46 loss:  9.181278228759766\n",
            "epoch:  47 loss:  9.18125057220459\n",
            "epoch:  48 loss:  9.181224822998047\n",
            "epoch:  49 loss:  9.18120002746582\n",
            "epoch:  50 loss:  9.181175231933594\n",
            "epoch:  51 loss:  9.181151390075684\n",
            "epoch:  52 loss:  9.181129455566406\n",
            "epoch:  53 loss:  9.181108474731445\n",
            "epoch:  54 loss:  9.181087493896484\n",
            "epoch:  55 loss:  9.18106746673584\n",
            "epoch:  56 loss:  9.181047439575195\n",
            "epoch:  57 loss:  9.181029319763184\n",
            "epoch:  58 loss:  9.181012153625488\n",
            "epoch:  59 loss:  9.180994987487793\n",
            "epoch:  60 loss:  9.18097972869873\n",
            "epoch:  61 loss:  9.180962562561035\n",
            "epoch:  62 loss:  9.180948257446289\n",
            "epoch:  63 loss:  9.18093490600586\n",
            "epoch:  64 loss:  9.180919647216797\n",
            "epoch:  65 loss:  9.18090534210205\n",
            "epoch:  66 loss:  9.180893898010254\n",
            "epoch:  67 loss:  9.180882453918457\n",
            "epoch:  68 loss:  9.180870056152344\n",
            "epoch:  69 loss:  9.180858612060547\n",
            "epoch:  70 loss:  9.180848121643066\n",
            "epoch:  71 loss:  9.180837631225586\n",
            "epoch:  72 loss:  9.180828094482422\n",
            "epoch:  73 loss:  9.180817604064941\n",
            "epoch:  74 loss:  9.180808067321777\n",
            "epoch:  75 loss:  9.18079948425293\n",
            "epoch:  76 loss:  9.180789947509766\n",
            "epoch:  77 loss:  9.18078327178955\n",
            "epoch:  78 loss:  9.180774688720703\n",
            "epoch:  79 loss:  9.180767059326172\n",
            "epoch:  80 loss:  9.18075942993164\n",
            "epoch:  81 loss:  9.180753707885742\n",
            "epoch:  82 loss:  9.180746078491211\n",
            "epoch:  83 loss:  9.180739402770996\n",
            "epoch:  84 loss:  9.180733680725098\n",
            "epoch:  85 loss:  9.180727005004883\n",
            "epoch:  86 loss:  9.180721282958984\n",
            "epoch:  87 loss:  9.180717468261719\n",
            "epoch:  88 loss:  9.18071174621582\n",
            "epoch:  89 loss:  9.180706024169922\n",
            "epoch:  90 loss:  9.180702209472656\n",
            "epoch:  91 loss:  9.180697441101074\n",
            "epoch:  92 loss:  9.180692672729492\n",
            "epoch:  93 loss:  9.180686950683594\n",
            "epoch:  94 loss:  9.180682182312012\n",
            "epoch:  95 loss:  9.180680274963379\n",
            "epoch:  96 loss:  9.180675506591797\n",
            "epoch:  97 loss:  9.180672645568848\n",
            "epoch:  98 loss:  9.180667877197266\n",
            "epoch:  99 loss:  9.1806640625\n"
          ]
        }
      ]
    },
    {
      "cell_type": "code",
      "source": [
        "# plot the loss on graph\n",
        "plt.plot(range(epochs), losses)\n",
        "plt.ylabel('Loss')\n",
        "plt.xlabel('epoch')\n"
      ],
      "metadata": {
        "colab": {
          "base_uri": "https://localhost:8080/",
          "height": 298
        },
        "id": "e5T90rd-9eOg",
        "outputId": "066e7029-7b04-44c7-e37e-a8cf434dc2de"
      },
      "execution_count": null,
      "outputs": [
        {
          "output_type": "execute_result",
          "data": {
            "text/plain": [
              "Text(0.5, 0, 'epoch')"
            ]
          },
          "metadata": {},
          "execution_count": 59
        },
        {
          "output_type": "display_data",
          "data": {
            "image/png": "[encoded data removed]",
            "text/plain": [
              "<Figure size 432x288 with 1 Axes>"
            ]
          },
          "metadata": {
            "needs_background": "light"
          }
        }
      ]
    },
    {
      "cell_type": "code",
      "source": [
        "plot_fit('Trained Model') # calling trained fit model"
      ],
      "metadata": {
        "colab": {
          "base_uri": "https://localhost:8080/",
          "height": 265
        },
        "id": "_wtleXmd-XvF",
        "outputId": "2e81fe9a-0d6a-422b-ffed-1e58b8248d1b"
      },
      "execution_count": null,
      "outputs": [
        {
          "output_type": "display_data",
          "data": {
            "image/png": "[encoded data removed]",
            "text/plain": [
              "<Figure size 432x288 with 1 Axes>"
            ]
          },
          "metadata": {
            "needs_background": "light"
          }
        }
      ]
    },
    {
      "cell_type": "code",
      "source": [
        ""
      ],
      "metadata": {
        "id": "5NDFcMS2Ppvg"
      },
      "execution_count": null,
      "outputs": []
    }
  ]
}